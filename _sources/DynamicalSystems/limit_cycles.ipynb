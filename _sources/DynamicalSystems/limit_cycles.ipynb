{
 "cells": [
  {
   "cell_type": "markdown",
   "id": "70e45bc4",
   "metadata": {},
   "source": [
    "# Limit cycles\n",
    "\n",
    "```{admonition} Definition\n",
    ":class: theorem\n",
    "A limit cycle is an isolated periodic solution, unlike a centre which has a family of periodic solutions.\n",
    "\n",
    "* For a stable limit cycle all trajectories approach the limit cycle as $t\\rightarrow\\infty$\n",
    "* For an unstable limit cycle all trajectories approach the limit cycle as $t\\rightarrow -\\infty$\n",
    "\n",
    "A limit cycle can only exist in a nonlinear system. It occurs when the stabilising or destabilising effect of the nonlinear terms is opposite to that of the linear terms.\n",
    "```\n",
    "\n",
    "\n",
    "\n",
    "### Example\n",
    "\n",
    "By way of illustration, we consider the following problem\n",
    "\n",
    "\\begin{align}\n",
    "\\dot{x} &=x-y-x(x^2+y^2),\\\\\n",
    "\\dot{y} &=x+y-y(x^2+y^2).\n",
    "\\end{align}\n",
    "\n",
    "For this example it is instructive to transform to polar coordinates $x=r\\cos(\\theta)$, $y=r\\sin(\\theta)$, which gives the simpler-looking system\n",
    "\n",
    "\n",
    "\\begin{align}\n",
    "\\dot{r}&= r(1-r^2), \\quad r\\geq 0,\\\\\n",
    "\\dot{\\theta}&=1.\n",
    "\\end{align}\n",
    "\n",
    "Solutions satisfying $\\dot{r}=0$ occur when $r=0$ (point) and when $r=1$ (cycle) as illustrated.\n",
    "\n",
    "```{figure} ../figures/limit_cycle.png\n",
    "---\n",
    "name: limit cycle\n",
    "---\n",
    "```\n",
    "\n",
    "The stability of the cycle and equilibrium point can be inferred by noting that\n",
    "\n",
    "* $\\dot{r}>0$ for $0<r<1$\n",
    "* $\\dot{r}<0$ for $r>1$.\n",
    "\n",
    "Hence, the origin is unstable and the limit cycle is stable for this example.\n",
    "\n",
    "```{admonition} Note\n",
    ":class: warning\n",
    "Limit cycles are generally not circular and must be found numerically. They can be extremely difficult to locate.\n",
    "```\n",
    "\n",
    "We have already seen illustrated examples of limit cycles in in {numref}`ex-222` and {numref}`ex-235`. The systems we looked at in those exercises contained parameters and we saw that the limit cycle emerged for particular parameter regimes. This is another example of bifurcation behaviour.\n",
    "\n",
    "### Hopf bifurcation\n",
    "\n",
    "A Hopf bifurcation occurs when a parameter in the system creates a change from a stable/unstable equilibrium point to an unstable/stable equilibrium point, together with a periodic solution that takes the form of a limit cycle.\n",
    "\n",
    "```{admonition} Sub/supercritical\n",
    ":class: theorem\n",
    "A Hopf bifurcation is said to be subcritical if the limit cycle is unstable and supercritical if the limit cycle is stable.\n",
    "```\n",
    "\n",
    "An illustration of a subcritical Hopf bifurcation is shown below. Here the bifurcation diagram has been shown in 3D to make it easier to infer what is happening. However, the normal representation of a bifurcation diagram is in 2D with only the extrema (max/min) values of the limit cycle indicated.\n",
    "\n",
    "```{figure} ../figures/hopfb.png\n",
    "---\n",
    "name: Hopf bifurcation\n",
    "---\n",
    "```\n",
    "\n",
    "An example of how a subcritical bifurcation might be illustrated in 2D is shown below. The image is taken from a research paper investigating glucose-stimulated insulin secretion in the human pancreas, regulated by calcium concentration.\n",
    "\n",
    "The horizontal axis shows the calcium concentration, which is varied as a parameter, and the vertical axis shows the equilibrium points and their stability. The max/min of the limit cycle are also shown.\n",
    "\n",
    "```{figure} ../figures/pancreatic-beta.png\n",
    "---\n",
    "name: Hopf bifurcation\n",
    "---\n",
    "```\n",
    "\n",
    "On the diagram the following notation is used:\n",
    "* HB: Hopf bifurcation\n",
    "* SN: Saddle node bifurcation\n",
    "* HC: Homoclinic bifurcation\n",
    "\n",
    "At a homoclinic bifurcation a limit cycle collides with a saddle node. The limit cycle is annihilated. The details of homoclinic bifurcations are beyond the scope of this course.\n",
    "\n",
    "```{exercise}\n",
    "For the glycolysis problem introduced in {numref}`ex-222`, with $k=v_0=1$, show that there is an equilibrium point at\n",
    "$(s,p)=(1/c,1)$. Find the eigenvalues and show that decreasing the parameter past $c=1$ creates a Hopf bifurcation.\n",
    "\n",
    "By referring back to the results illustrated in {numref}`ex-222`, say whether the Hopf bifurcation is supercritical or subcritical.\n",
    "```"
   ]
  },
  {
   "cell_type": "code",
   "execution_count": 1,
   "id": "35109f8d",
   "metadata": {
    "tags": [
     "remove-cell"
    ]
   },
   "outputs": [
    {
     "data": {
      "image/png": "[encoded data removed]",
      "text/plain": [
       "<Figure size 432x288 with 1 Axes>"
      ]
     },
     "metadata": {
      "filenames": {
       "image/png": "C:\\Users\\NatSciTeaching\\Documents\\GitHub\\Mathematics-for-Natural-Sciences-A\\_build\\jupyter_execute\\DynamicalSystems\\limit_cycles_1_0.png"
      },
      "scrapbook": {
       "mime_prefix": "application/papermill.record/",
       "name": "hf123"
      }
     },
     "output_type": "display_data"
    },
    {
     "data": {
      "image/png": "[encoded data removed]",
      "text/plain": [
       "<Figure size 432x288 with 1 Axes>"
      ]
     },
     "metadata": {
      "filenames": {
       "image/png": "C:\\Users\\NatSciTeaching\\Documents\\GitHub\\Mathematics-for-Natural-Sciences-A\\_build\\jupyter_execute\\DynamicalSystems\\limit_cycles_1_1.png"
      },
      "needs_background": "light"
     },
     "output_type": "display_data"
    }
   ],
   "source": [
    "from myst_nb import glue\n",
    "import numpy as np\n",
    "import matplotlib.pyplot as plt\n",
    "\n",
    "c = np.linspace(0,6)\n",
    "fig = plt.figure()\n",
    "plt.plot(c,c**2-6*c+1)\n",
    "plt.axhline(y=0, color='k')\n",
    "plt.xlabel('c')\n",
    "plt.ylabel('$\\theta$')\n",
    "glue(\"hf123\", fig, display=False)"
   ]
  },
  {
   "cell_type": "markdown",
   "id": "429416b4",
   "metadata": {},
   "source": [
    "````{toggle}\n",
    "Let us take\n",
    "\\begin{align*}\n",
    "f(p,s)&=csp^2-kp,\\\\\n",
    "g(p,s)&=v_0-csp^2.\n",
    "\\end{align*}\n",
    "\n",
    "The equilibrium point can be found by first setting $g=0$, which gives $csp^2=v_0$.\n",
    "\n",
    "Substituting into $f=0$ then provides\n",
    "\\begin{equation*}\n",
    "p=\\frac{v_0}{k}, \\qquad  s=\\frac{v_0}{cp^2},\n",
    "\\end{equation*}\n",
    "\n",
    "and for the case where $v_0=k=1$ we obtain $(s,p)=(1/c,1)$.\n",
    "\n",
    "The Jacobian matrix, evaluated at the equilibrium point for $v_0=k=1$ is\n",
    "\\begin{equation*}\n",
    "J=\\begin{bmatrix}2csp-k & cp^2\\\\-2csp & -cp^2\\end{bmatrix} \\quad = \\quad \\begin{bmatrix}1& c\\\\-2& -c\\end{bmatrix}\n",
    "\\end{equation*}\n",
    "\n",
    "The eigenvalues are found to be\n",
    "\n",
    "\\begin{equation*}\n",
    "\\lambda = \\frac{(1-c)\\pm \\sqrt{\\theta}}{2}, \\qquad \\theta=c^2-6c+1\n",
    "\\end{equation*}\n",
    "\n",
    "The quantity $\\theta$ is shown below. It is negative for $3-2\\sqrt{2}<c<3+2\\sqrt{2}$. In this range, the solution trajectories near to the equilibrium point are spirals.\n",
    "\n",
    "```{glue:} hf123\n",
    "```\n",
    "<br>\n",
    "\n",
    "* For $3-2\\sqrt{2}<c<1$ the spiral trajectories are unstable (positive real part).\n",
    "\n",
    "* For $1<c<3+2\\sqrt{2}$ the spiral trajectories are stable (negative real part).\n",
    "\n",
    "The transition from an unstable to a stable spiral in a nonlinear system strongly hints at the possibility of a limit cycle in one of these two regimes.\n",
    "\n",
    "To know where the limit cycle will occur is difficult without plotting some solution trajectories. We have done this in {numref}`ex-222` and we found that the limit cycle appears in the region where the equilibrium point is unstable. Hence, the limit cycle is stable and this is an example of a supercritical Hopf bifurcation.\n",
    "\n",
    "*Side note:*\n",
    "\n",
    "It is possible to infer the stability of the limit cycle by transforming to a polar coordinate system with origin at the equilibrium point. Undertaking this level of investigation is beyond the scope of the course, but if you did it you would find that\n",
    "\n",
    "\\begin{equation*}\n",
    "\\frac{\\mathrm{d}r}{\\mathrm{d}t}=\\alpha r^2 + \\beta r^3 +\\gamma r^4\n",
    "\\end{equation*}\n",
    "\n",
    "where the coefficients $\\alpha,\\beta,\\gamma$ depend on $\\theta$. When the distance from the equilibrium point is large, the term in $r^4$ dominates. It's coefficient is\n",
    "\n",
    "\\begin{equation*}\n",
    "\\gamma = 2c\\cos^2(\\theta)(\\cos(\\theta)\\sin(\\theta)-\\sin^2(\\theta))\n",
    "\\end{equation*}\n",
    "\n",
    "The average of $\\gamma$ over $\\theta\\in[0,2\\pi]$ is found to be negative, which suggests that the nonlinear terms have a stabilising effect.\n",
    "\n",
    "````\n",
    "\n",
    "\n",
    "\n",
    "```{exercise}\n",
    "Find the eigenvalues of the Rayleigh problem introduced in {numref}`ex-235`. Show that a Hopf bifurcation occurs at $c=0$. Is this a supercritical or a subcritical bifurcation?\n",
    "```"
   ]
  }
 ],
 "metadata": {
  "jupytext": {
   "formats": "md:myst",
   "text_representation": {
    "extension": ".md",
    "format_name": "myst",
    "format_version": 0.13,
    "jupytext_version": "1.10.3"
   }
  },
  "kernelspec": {
   "display_name": "Python 3",
   "language": "python",
   "name": "python3"
  },
  "language_info": {
   "codemirror_mode": {
    "name": "ipython",
    "version": 3
   },
   "file_extension": ".py",
   "mimetype": "text/x-python",
   "name": "python",
   "nbconvert_exporter": "python",
   "pygments_lexer": "ipython3",
   "version": "3.7.11"
  },
  "source_map": [
   13,
   109,
   123
  ]
 },
 "nbformat": 4,
 "nbformat_minor": 5
}